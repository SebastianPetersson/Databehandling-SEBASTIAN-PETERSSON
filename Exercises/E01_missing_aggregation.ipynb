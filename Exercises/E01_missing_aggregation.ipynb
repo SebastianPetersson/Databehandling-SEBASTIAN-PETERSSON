{
 "cells": [
  {
   "cell_type": "markdown",
   "metadata": {},
   "source": [
    "\n",
    "<a href=\"https://colab.research.google.com/github/kokchun/Databehandling-AI22/blob/main/Exercises/E01_missing_aggregation.ipynb\" target=\"_parent\"><img align=\"left\" src=\"https://colab.research.google.com/assets/colab-badge.svg\" alt=\"Open In Colab\"/></a> &nbsp; to see hints and answers."
   ]
  },
  {
   "cell_type": "markdown",
   "metadata": {},
   "source": [
    "---\n",
    "# Missing data and aggregations exercises\n",
    "\n",
    "---\n",
    "These are introductory exercises in Pandas with focus in **syntax, indexing, data selection, missing data, aggregations, visualizations** and **data cleaning**.\n",
    "\n",
    "<p class = \"alert alert-info\" role=\"alert\"><b>Note</b> all datasets used in this exercise can be found under Data folder of the course Github repo</p>\n",
    "\n",
    "<p class = \"alert alert-info\" role=\"alert\"><b>Note</b> that there are usually many ways to achieve same results using operations in pandas. Feel free to investigate several ways. </p>\n",
    "\n",
    "<p class = \"alert alert-info\" role=\"alert\"><b>Note</b> that in cases when you start to repeat code, try not to. Create functions to reuse code instead. </p>\n",
    "\n",
    "<p class = \"alert alert-info\" role=\"alert\"><b>Remember</b> to use <b>descriptive variable, function, index </b> and <b> column names</b> in order to get readable code </p>\n",
    "\n",
    "<p class = \"alert alert-info\" role=\"alert\"><b>Remember</b> to format your input questions in a pedagogical way to guide the user\n",
    "\n",
    "The number of stars (\\*), (\\*\\*), (\\*\\*\\*) denotes the difficulty level of the task\n",
    "\n",
    "---"
   ]
  },
  {
   "cell_type": "markdown",
   "metadata": {},
   "source": [
    "## 1. Find missing values (*)\n",
    "\n",
    "&nbsp; a) Read in the file \"student-mat-missing-data.csv\" found in the course github repo into a Pandas DataFrame\n",
    "\n",
    "&nbsp; b) Do some initial explorations with the methods to get an understanding of the dataset:\n",
    "```py\n",
    "head(), info(), describe(), value_counts(), unique(), columns()\n",
    "```\n",
    "\n",
    "&nbsp; c) Create a function that takes in a DataFrame as input parameter and plots a barplot with the columns that have missing values. Put this function into a file called data_utils.py.\n",
    "When you come across more useful functions, you can store them in your data_utils module. \n",
    "\n",
    "&nbsp; d) Now import your function from the module data_utils and use it to visualize NaNs in your dataset.\n",
    "\n",
    "&nbsp; e) Find all rows where the freetime is NaN.   \n",
    "\n",
    "&nbsp; f) Find all rows where the freetime **or** the age is NaN.  \n",
    "\n",
    "&nbsp; g) You will notice that some rows have several NaNs. Now compute the proportion that these rows constitute of the whole dataset.\n",
    "\n",
    "<details>\n",
    "<summary>Hint</summary>\n",
    "\n",
    "&nbsp; c) Use \n",
    "```py\n",
    "isnull()\n",
    "```\n",
    "in combination with aggregation functions such as \n",
    "```py\n",
    "sum()\n",
    "```\n",
    "\n",
    "Use seaborn to plot\n",
    "\n",
    "f) use bitwise or: | \n",
    "\n",
    "\n",
    "</details>\n",
    "\n",
    "<br/>\n",
    "\n",
    "<details>\n",
    "\n",
    "<summary>Answer</summary>\n",
    "\n",
    "d)\n",
    "\n",
    "![null values graph](../assets/null_vals_student.png)\n",
    "\n",
    "e) \n",
    "\n",
    "These row indices: \n",
    "[87, 99, 130, 149, 151, 160, 191, 257, 276, 293, 308, 330, 343, 359, 372, 385]\n",
    " \n",
    "f) \n",
    "\n",
    "These row indices:\n",
    "[20,  71,  87,  99, 102, 106, 121, 130, 149, 151, 160, 188, 191, 214, 257, 270, 276, 293, 308, 330, 343, 348, 359, 372, 385]\n",
    "\n",
    "g) \n",
    "\n",
    "These rows constitutes 0.0127 of the dataset\n",
    "\n",
    "h)\n",
    "\n",
    "![null values graph after cleaned once](../assets/null_vals_student_2.png)\n",
    "\n",
    "</details>"
   ]
  },
  {
   "cell_type": "markdown",
   "metadata": {},
   "source": [
    "## a)"
   ]
  },
  {
   "cell_type": "code",
   "execution_count": 53,
   "metadata": {},
   "outputs": [
    {
     "data": {
      "text/html": [
       "<div>\n",
       "<style scoped>\n",
       "    .dataframe tbody tr th:only-of-type {\n",
       "        vertical-align: middle;\n",
       "    }\n",
       "\n",
       "    .dataframe tbody tr th {\n",
       "        vertical-align: top;\n",
       "    }\n",
       "\n",
       "    .dataframe thead th {\n",
       "        text-align: right;\n",
       "    }\n",
       "</style>\n",
       "<table border=\"1\" class=\"dataframe\">\n",
       "  <thead>\n",
       "    <tr style=\"text-align: right;\">\n",
       "      <th></th>\n",
       "      <th>school</th>\n",
       "      <th>sex</th>\n",
       "      <th>age</th>\n",
       "      <th>address</th>\n",
       "      <th>famsize</th>\n",
       "      <th>Pstatus</th>\n",
       "      <th>Medu</th>\n",
       "      <th>Fedu</th>\n",
       "      <th>Mjob</th>\n",
       "      <th>Fjob</th>\n",
       "      <th>...</th>\n",
       "      <th>famrel</th>\n",
       "      <th>freetime</th>\n",
       "      <th>goout</th>\n",
       "      <th>Dalc</th>\n",
       "      <th>Walc</th>\n",
       "      <th>health</th>\n",
       "      <th>absences</th>\n",
       "      <th>G1</th>\n",
       "      <th>G2</th>\n",
       "      <th>G3</th>\n",
       "    </tr>\n",
       "  </thead>\n",
       "  <tbody>\n",
       "    <tr>\n",
       "      <th>0</th>\n",
       "      <td>GP</td>\n",
       "      <td>F</td>\n",
       "      <td>18.0</td>\n",
       "      <td>U</td>\n",
       "      <td>GT3</td>\n",
       "      <td>A</td>\n",
       "      <td>4</td>\n",
       "      <td>4</td>\n",
       "      <td>at_home</td>\n",
       "      <td>teacher</td>\n",
       "      <td>...</td>\n",
       "      <td>4.0</td>\n",
       "      <td>3.0</td>\n",
       "      <td>4.0</td>\n",
       "      <td>1</td>\n",
       "      <td>1</td>\n",
       "      <td>3.0</td>\n",
       "      <td>6.0</td>\n",
       "      <td>5</td>\n",
       "      <td>6</td>\n",
       "      <td>6</td>\n",
       "    </tr>\n",
       "    <tr>\n",
       "      <th>1</th>\n",
       "      <td>GP</td>\n",
       "      <td>F</td>\n",
       "      <td>17.0</td>\n",
       "      <td>U</td>\n",
       "      <td>GT3</td>\n",
       "      <td>T</td>\n",
       "      <td>1</td>\n",
       "      <td>1</td>\n",
       "      <td>at_home</td>\n",
       "      <td>other</td>\n",
       "      <td>...</td>\n",
       "      <td>5.0</td>\n",
       "      <td>3.0</td>\n",
       "      <td>3.0</td>\n",
       "      <td>1</td>\n",
       "      <td>1</td>\n",
       "      <td>3.0</td>\n",
       "      <td>4.0</td>\n",
       "      <td>5</td>\n",
       "      <td>5</td>\n",
       "      <td>6</td>\n",
       "    </tr>\n",
       "    <tr>\n",
       "      <th>2</th>\n",
       "      <td>GP</td>\n",
       "      <td>F</td>\n",
       "      <td>15.0</td>\n",
       "      <td>U</td>\n",
       "      <td>LE3</td>\n",
       "      <td>T</td>\n",
       "      <td>1</td>\n",
       "      <td>1</td>\n",
       "      <td>at_home</td>\n",
       "      <td>other</td>\n",
       "      <td>...</td>\n",
       "      <td>4.0</td>\n",
       "      <td>3.0</td>\n",
       "      <td>2.0</td>\n",
       "      <td>2</td>\n",
       "      <td>3</td>\n",
       "      <td>3.0</td>\n",
       "      <td>10.0</td>\n",
       "      <td>7</td>\n",
       "      <td>8</td>\n",
       "      <td>10</td>\n",
       "    </tr>\n",
       "    <tr>\n",
       "      <th>3</th>\n",
       "      <td>GP</td>\n",
       "      <td>F</td>\n",
       "      <td>15.0</td>\n",
       "      <td>U</td>\n",
       "      <td>GT3</td>\n",
       "      <td>T</td>\n",
       "      <td>4</td>\n",
       "      <td>2</td>\n",
       "      <td>health</td>\n",
       "      <td>services</td>\n",
       "      <td>...</td>\n",
       "      <td>3.0</td>\n",
       "      <td>2.0</td>\n",
       "      <td>2.0</td>\n",
       "      <td>1</td>\n",
       "      <td>1</td>\n",
       "      <td>5.0</td>\n",
       "      <td>2.0</td>\n",
       "      <td>15</td>\n",
       "      <td>14</td>\n",
       "      <td>15</td>\n",
       "    </tr>\n",
       "    <tr>\n",
       "      <th>4</th>\n",
       "      <td>GP</td>\n",
       "      <td>F</td>\n",
       "      <td>16.0</td>\n",
       "      <td>U</td>\n",
       "      <td>GT3</td>\n",
       "      <td>T</td>\n",
       "      <td>3</td>\n",
       "      <td>3</td>\n",
       "      <td>other</td>\n",
       "      <td>other</td>\n",
       "      <td>...</td>\n",
       "      <td>4.0</td>\n",
       "      <td>3.0</td>\n",
       "      <td>2.0</td>\n",
       "      <td>1</td>\n",
       "      <td>2</td>\n",
       "      <td>5.0</td>\n",
       "      <td>4.0</td>\n",
       "      <td>6</td>\n",
       "      <td>10</td>\n",
       "      <td>10</td>\n",
       "    </tr>\n",
       "  </tbody>\n",
       "</table>\n",
       "<p>5 rows × 33 columns</p>\n",
       "</div>"
      ],
      "text/plain": [
       "  school sex   age address famsize Pstatus  Medu  Fedu     Mjob      Fjob  \\\n",
       "0     GP   F  18.0       U     GT3       A     4     4  at_home   teacher   \n",
       "1     GP   F  17.0       U     GT3       T     1     1  at_home     other   \n",
       "2     GP   F  15.0       U     LE3       T     1     1  at_home     other   \n",
       "3     GP   F  15.0       U     GT3       T     4     2   health  services   \n",
       "4     GP   F  16.0       U     GT3       T     3     3    other     other   \n",
       "\n",
       "   ... famrel freetime  goout  Dalc  Walc health absences  G1  G2  G3  \n",
       "0  ...    4.0      3.0    4.0     1     1    3.0      6.0   5   6   6  \n",
       "1  ...    5.0      3.0    3.0     1     1    3.0      4.0   5   5   6  \n",
       "2  ...    4.0      3.0    2.0     2     3    3.0     10.0   7   8  10  \n",
       "3  ...    3.0      2.0    2.0     1     1    5.0      2.0  15  14  15  \n",
       "4  ...    4.0      3.0    2.0     1     2    5.0      4.0   6  10  10  \n",
       "\n",
       "[5 rows x 33 columns]"
      ]
     },
     "execution_count": 53,
     "metadata": {},
     "output_type": "execute_result"
    }
   ],
   "source": [
    "import pandas as pd\n",
    "import seaborn as sns\n",
    "import matplotlib.pyplot as plt\n",
    "import numpy as np\n",
    "\n",
    "students = pd.read_csv('student-mat-missing-data.csv', index_col=0)\n",
    "students.head()"
   ]
  },
  {
   "cell_type": "markdown",
   "metadata": {},
   "source": [
    "## b)"
   ]
  },
  {
   "cell_type": "markdown",
   "metadata": {},
   "source": [
    "Utforskade lite i datasetet."
   ]
  },
  {
   "cell_type": "markdown",
   "metadata": {},
   "source": [
    "## c & d)"
   ]
  },
  {
   "cell_type": "code",
   "execution_count": 54,
   "metadata": {},
   "outputs": [
    {
     "name": "stderr",
     "output_type": "stream",
     "text": [
      "c:\\Users\\Sebastian!\\Documents\\Programmering\\Databehandling-SEBASTIAN-PETERSSON\\Exercises\\data_utils.py:19: FutureWarning: \n",
      "\n",
      "Passing `palette` without assigning `hue` is deprecated and will be removed in v0.14.0. Assign the `x` variable to `hue` and set `legend=False` for the same effect.\n",
      "\n",
      "  sns.barplot(x = missing_counts.index, y = missing_counts.values, palette='rocket')\n"
     ]
    },
    {
     "data": {
      "image/png": "[encoded data removed]",
      "text/plain": [
       "<Figure size 800x600 with 1 Axes>"
      ]
     },
     "metadata": {},
     "output_type": "display_data"
    }
   ],
   "source": [
    "from data_utils import plot_missing_values\n",
    "\n",
    "plot_missing_values(students)"
   ]
  },
  {
   "cell_type": "markdown",
   "metadata": {},
   "source": [
    "## e)"
   ]
  },
  {
   "cell_type": "code",
   "execution_count": 55,
   "metadata": {},
   "outputs": [
    {
     "name": "stdout",
     "output_type": "stream",
     "text": [
      "Index([87, 99, 130, 149, 151, 160, 191, 257, 276, 293, 308, 330, 343, 359, 372,\n",
      "       385],\n",
      "      dtype='int64')\n"
     ]
    }
   ],
   "source": [
    "isnull_freetime = students[students['freetime'].isnull()].index\n",
    "print(isnull_freetime)"
   ]
  },
  {
   "cell_type": "markdown",
   "metadata": {},
   "source": [
    "## f)"
   ]
  },
  {
   "cell_type": "code",
   "execution_count": 56,
   "metadata": {},
   "outputs": [
    {
     "data": {
      "text/plain": [
       "Index([ 20,  71,  87,  99, 102, 106, 121, 130, 149, 151, 160, 188, 191, 214,\n",
       "       257, 270, 276, 293, 308, 330, 343, 348, 359, 372, 385],\n",
       "      dtype='int64')"
      ]
     },
     "execution_count": 56,
     "metadata": {},
     "output_type": "execute_result"
    }
   ],
   "source": [
    "isnull_freetime_age = students[students['freetime'].isnull() | students['age'].isnull()].index\n",
    "isnull_freetime_age"
   ]
  },
  {
   "cell_type": "markdown",
   "metadata": {},
   "source": [
    "## g)\n",
    "Förstod först inte innebörden av frågan. Tog hjälp av chatgpt för att tolka uppgiften och löste det sedan som understående."
   ]
  },
  {
   "cell_type": "code",
   "execution_count": 57,
   "metadata": {},
   "outputs": [
    {
     "name": "stdout",
     "output_type": "stream",
     "text": [
      "Percentage of rows containing more than 2 NaN: 1.27 %\n"
     ]
    }
   ],
   "source": [
    "nan_per_row = students.isnull().sum(axis=1)\n",
    "nans_missing = nan_per_row[nan_per_row > 1]\n",
    "nans_missing.index\n",
    "print(f'Percentage of rows containing more than 2 NaN: {len(nans_missing) / len(students)*100:.2f} %')\n"
   ]
  },
  {
   "cell_type": "markdown",
   "metadata": {},
   "source": [
    "---\n",
    "## 2. Clean the data (*)\n",
    "\n",
    "&nbsp; a) As you have conversed with a domain expert you both agree that there are too many missing data to fill in and the proportion is small enough to be safe to just remove.  \n",
    "Now remove these rows and use your missing-value utility function visualize the remaining NaNs.\n",
    "\n",
    "&nbsp; b) The domain expert has told you that you have to fill in the missing age values.\n",
    "Start with visualising the age distribution in the dataset using a histogram. \n",
    "\n",
    "&nbsp; c) Check which columns there are in the dataset to see what can be utilised in determining the age.\n",
    "\n",
    "&nbsp; d) The column higher seems interesting. Let's see which unique values it can have. \n",
    "\n",
    "&nbsp; e) Let's see if we can see some connection between age distribution and higher.\n",
    "Make 3 subplots of age histograms:\n",
    "- Plot 1: same as b)\n",
    "- Plot 2: age distribution when higher is yes \n",
    "- Plot 3: age distribution when higher is no  \n",
    "\n",
    "&nbsp; f) That was hard to find a connection. When reading [dataset source](https://www.kaggle.com/uciml/student-alcohol-consumption) we find alcohol consumption, maybe there is some connection between age and alcohol consumption.\n",
    "- Dalc - workday alcohol consumption (numeric: from 1 - very low to 5 - very high)\n",
    "- Walc - weekend alcohol consumption (numeric: from 1 - very low to 5 - very high)\n",
    "\n",
    "&nbsp; Start with creating a new column called Alcohol, which is a sum of Dalc and Walc columns\n",
    "\n",
    "&nbsp; g) Make a barchart for alcohol consumption vs age.\n",
    "\n",
    "&nbsp; h) We see that older students tend to drink more, but notice how few 20-22 year-old students we have in the dataset. We can definitely exclude them when computing the missing values. However there are also few 19 year-old students in the dataset, say for simplicity that we can exclude them as well. This leaves: \n",
    "- alcohol level >= 4 -> 16, 17 or 18 years old -> take median to simplify \n",
    "- alcohol level < 4 -> 15 years old\n",
    "\n",
    "Fill these in and visualize missing values. \n",
    "\n",
    "&nbsp; Note: could make more stringent by computing percentages based on the distribution\n",
    "\n",
    "\n",
    "<details>\n",
    "<summary>Answer</summary>\n",
    "\n",
    "a)\n",
    "\n",
    "![null values graph after cleaned once](../assets/null_vals_student_2.png)\n",
    "\n",
    "b)\n",
    "\n",
    "![Age distribution](../assets/age_distribution_student.png)\n",
    "\n",
    "c)\n",
    "\n",
    "```python\n",
    "\n",
    "Index(['Unnamed: 0', 'school', 'sex', 'age', 'address', 'famsize', 'Pstatus',\n",
    "       'Medu', 'Fedu', 'Mjob', 'Fjob', 'reason', 'guardian', 'traveltime',\n",
    "       'studytime', 'failures', 'schoolsup', 'famsup', 'paid', 'activities',\n",
    "       'nursery', 'higher', 'internet', 'romantic', 'famrel', 'freetime',\n",
    "       'goout', 'Dalc', 'Walc', 'health', 'absences', 'G1', 'G2', 'G3'],\n",
    "      dtype='object')\n",
    "```\n",
    "\n",
    "d)\n",
    "\n",
    "```python\n",
    "\n",
    "array(['yes', 'no'], dtype=object)\n",
    "\n",
    "```\n",
    "\n",
    "e)\n",
    "\n",
    "![Age distribution with higher](../assets/age_dist_higher.png)\n",
    "\n",
    "f) \n",
    "\n",
    "```python\n",
    "\n",
    "0      2\n",
    "1      2\n",
    "2      5\n",
    "3      2\n",
    "4      3\n",
    "      ..\n",
    "390    9\n",
    "391    7\n",
    "392    6\n",
    "393    7\n",
    "394    6\n",
    "Name: Alcohol, Length: 390, dtype: int64\n",
    "\n",
    "```\n",
    "\n",
    "g)\n",
    "\n",
    "![Age distribution vs alcohol](../assets/alcohol_age.png)\n",
    "\n",
    "</details>"
   ]
  },
  {
   "cell_type": "markdown",
   "metadata": {},
   "source": [
    "## a)"
   ]
  },
  {
   "cell_type": "code",
   "execution_count": 58,
   "metadata": {},
   "outputs": [],
   "source": [
    "students_cleaned = students.drop(nans_missing.index, axis=0).reset_index()"
   ]
  },
  {
   "cell_type": "code",
   "execution_count": 59,
   "metadata": {},
   "outputs": [
    {
     "name": "stderr",
     "output_type": "stream",
     "text": [
      "c:\\Users\\Sebastian!\\Documents\\Programmering\\Databehandling-SEBASTIAN-PETERSSON\\Exercises\\data_utils.py:19: FutureWarning: \n",
      "\n",
      "Passing `palette` without assigning `hue` is deprecated and will be removed in v0.14.0. Assign the `x` variable to `hue` and set `legend=False` for the same effect.\n",
      "\n",
      "  sns.barplot(x = missing_counts.index, y = missing_counts.values, palette='rocket')\n"
     ]
    },
    {
     "data": {
      "image/png": "[encoded data removed]",
      "text/plain": [
       "<Figure size 800x600 with 1 Axes>"
      ]
     },
     "metadata": {},
     "output_type": "display_data"
    }
   ],
   "source": [
    "from data_utils import plot_missing_values\n",
    "\n",
    "plot_missing_values(students_cleaned)"
   ]
  },
  {
   "cell_type": "markdown",
   "metadata": {},
   "source": [
    "## b)"
   ]
  },
  {
   "cell_type": "code",
   "execution_count": 60,
   "metadata": {},
   "outputs": [
    {
     "data": {
      "text/plain": [
       "[Text(0.5, 1.0, 'Overview of agespan in Students'),\n",
       " Text(0, 0.5, 'Number of students'),\n",
       " Text(0.5, 0, 'age')]"
      ]
     },
     "execution_count": 60,
     "metadata": {},
     "output_type": "execute_result"
    },
    {
     "data": {
      "image/png": "[encoded data removed]",
      "text/plain": [
       "<Figure size 600x400 with 1 Axes>"
      ]
     },
     "metadata": {},
     "output_type": "display_data"
    }
   ],
   "source": [
    "plt.figure(figsize=(6,4))\n",
    "ax = sns.histplot(data = students_cleaned,\n",
    "                  x = 'age',\n",
    "                  edgecolor = 'black',\n",
    "                  color = 'darkblue',\n",
    "                  )\n",
    "ax.set(\n",
    "    title = 'Overview of agespan in Students',\n",
    "    ylabel= 'Number of students',\n",
    "    xlabel='age'\n",
    ")\n"
   ]
  },
  {
   "cell_type": "markdown",
   "metadata": {},
   "source": [
    "## c)"
   ]
  },
  {
   "cell_type": "code",
   "execution_count": 61,
   "metadata": {},
   "outputs": [
    {
     "data": {
      "text/plain": [
       "Index(['index', 'school', 'sex', 'age', 'address', 'famsize', 'Pstatus',\n",
       "       'Medu', 'Fedu', 'Mjob', 'Fjob', 'reason', 'guardian', 'traveltime',\n",
       "       'studytime', 'failures', 'schoolsup', 'famsup', 'paid', 'activities',\n",
       "       'nursery', 'higher', 'internet', 'romantic', 'famrel', 'freetime',\n",
       "       'goout', 'Dalc', 'Walc', 'health', 'absences', 'G1', 'G2', 'G3'],\n",
       "      dtype='object')"
      ]
     },
     "execution_count": 61,
     "metadata": {},
     "output_type": "execute_result"
    }
   ],
   "source": [
    "students_cleaned.columns"
   ]
  },
  {
   "cell_type": "markdown",
   "metadata": {},
   "source": [
    "## d)"
   ]
  },
  {
   "cell_type": "code",
   "execution_count": 62,
   "metadata": {},
   "outputs": [
    {
     "data": {
      "text/plain": [
       "higher\n",
       "yes    372\n",
       "no      18\n",
       "Name: count, dtype: int64"
      ]
     },
     "metadata": {},
     "output_type": "display_data"
    }
   ],
   "source": [
    "display(students_cleaned['higher'].value_counts())"
   ]
  },
  {
   "cell_type": "code",
   "execution_count": 63,
   "metadata": {},
   "outputs": [
    {
     "data": {
      "image/png": "[encoded data removed]",
      "text/plain": [
       "<Figure size 1000x300 with 3 Axes>"
      ]
     },
     "metadata": {},
     "output_type": "display_data"
    }
   ],
   "source": [
    "higher_yes = students_cleaned[students_cleaned['higher'] == 'yes']['age']\n",
    "higher_no = students_cleaned[students_cleaned['higher'] == 'no']['age']\n",
    "\n",
    "fig, axes = plt.subplots(1,3, figsize=(10,3), sharex=True, sharey=False)\n",
    "sns.histplot(data = students_cleaned['age'], edgecolor = 'black', ax = axes[0])\n",
    "sns.histplot(data =higher_yes, edgecolor = 'black', ax = axes[1])\n",
    "sns.histplot(data = higher_no, edgecolor = 'black', ax = axes[2])\n",
    "axes[0].set(title = 'Age distribution, of original')\n",
    "axes[1].set(title = 'Age distribution, higher=yes')\n",
    "axes[2].set(title = 'Age distribution, higher=no')\n",
    "# for ax in axes:\n",
    "#     ax.set(ylim=(0,120),\n",
    "#            xlim =(14, 23))\n",
    "plt.tight_layout()"
   ]
  },
  {
   "cell_type": "markdown",
   "metadata": {},
   "source": [
    "## f)"
   ]
  },
  {
   "cell_type": "code",
   "execution_count": 64,
   "metadata": {},
   "outputs": [],
   "source": [
    "students_cleaned['alcohol'] = students_cleaned[['Dalc', 'Walc']].sum(axis=1)"
   ]
  },
  {
   "cell_type": "markdown",
   "metadata": {},
   "source": [
    "## g)"
   ]
  },
  {
   "cell_type": "code",
   "execution_count": 65,
   "metadata": {},
   "outputs": [
    {
     "name": "stderr",
     "output_type": "stream",
     "text": [
      "C:\\Users\\Sebastian!\\AppData\\Local\\Temp\\ipykernel_15020\\17262618.py:3: FutureWarning: \n",
      "\n",
      "Passing `palette` without assigning `hue` is deprecated and will be removed in v0.14.0. Assign the `x` variable to `hue` and set `legend=False` for the same effect.\n",
      "\n",
      "  sns.barplot(data= alcohol_per_age, x = 'age', y = 'alcohol', palette = 'Greens_d')\n"
     ]
    },
    {
     "data": {
      "text/plain": [
       "Text(0.5, 1.0, 'Weekly alcohol consumption per age')"
      ]
     },
     "execution_count": 65,
     "metadata": {},
     "output_type": "execute_result"
    },
    {
     "data": {
      "image/png": "[encoded data removed]",
      "text/plain": [
       "<Figure size 800x600 with 1 Axes>"
      ]
     },
     "metadata": {},
     "output_type": "display_data"
    }
   ],
   "source": [
    "alcohol_per_age = students_cleaned[['age', 'alcohol']]\n",
    "plt.figure(figsize=(8,6))\n",
    "sns.barplot(data= alcohol_per_age, x = 'age', y = 'alcohol', palette = 'Greens_d')\n",
    "plt.title('Weekly alcohol consumption per age')"
   ]
  },
  {
   "cell_type": "markdown",
   "metadata": {},
   "source": [
    "## h)"
   ]
  },
  {
   "cell_type": "markdown",
   "metadata": {},
   "source": [
    "We see that older students tend to drink more, but notice how few 20-22 year-old students we have in the dataset. We can definitely exclude them when computing the missing values. However there are also few 19 year-old students in the dataset, say for simplicity that we can exclude them as well. This leaves: \n",
    "- alcohol level >= 4 -> 16, 17 or 18 years old -> take median to simplify \n",
    "- alcohol level < 4 -> 15 years old\n",
    "\n",
    "Fill these in and visualize missing values. \n",
    "\n",
    "&nbsp; Note: could make more stringent by computing percentages based on the distribution"
   ]
  },
  {
   "cell_type": "code",
   "execution_count": 66,
   "metadata": {},
   "outputs": [
    {
     "name": "stderr",
     "output_type": "stream",
     "text": [
      "c:\\Users\\Sebastian!\\Documents\\Programmering\\Databehandling-SEBASTIAN-PETERSSON\\Exercises\\data_utils.py:19: FutureWarning: \n",
      "\n",
      "Passing `palette` without assigning `hue` is deprecated and will be removed in v0.14.0. Assign the `x` variable to `hue` and set `legend=False` for the same effect.\n",
      "\n",
      "  sns.barplot(x = missing_counts.index, y = missing_counts.values, palette='rocket')\n"
     ]
    },
    {
     "data": {
      "image/png": "[encoded data removed]",
      "text/plain": [
       "<Figure size 800x600 with 1 Axes>"
      ]
     },
     "metadata": {},
     "output_type": "display_data"
    }
   ],
   "source": [
    "age_mask = students_cleaned['age'].isin([15, 16, 17, 18])\n",
    "students_cleaned['age'].isnull().value_counts()\n",
    "median_age = students_cleaned[(students_cleaned['alcohol'] >=4) & age_mask]['age'].median()\n",
    "\n",
    "students_cleaned.loc[(students_cleaned['age'].isnull()) & (students_cleaned['alcohol'] >= 4), 'age'] = median_age\n",
    "students_cleaned.loc[(students_cleaned['age'].isnull()) & (students_cleaned['alcohol'] < 4), 'age'] = 15\n",
    "\n",
    "plot_missing_values(students_cleaned)\n",
    "\n"
   ]
  },
  {
   "cell_type": "markdown",
   "metadata": {},
   "source": [
    "---\n",
    "## 3. Clean freetime column (**)\n",
    "\n",
    "Now there are missing data on freetime that needs to be filled. \n",
    "- Try yourself and find reasonable approaches for how you would fill those missing data.\n",
    "- Document what you have tried and different findings\n",
    "- Combine suitable visualizations with pandas methods"
   ]
  },
  {
   "cell_type": "code",
   "execution_count": 67,
   "metadata": {},
   "outputs": [
    {
     "data": {
      "text/plain": [
       "freetime\n",
       "False    379\n",
       "True      11\n",
       "Name: count, dtype: int64"
      ]
     },
     "metadata": {},
     "output_type": "display_data"
    },
    {
     "data": {
      "text/plain": [
       "Index(['index', 'school', 'sex', 'age', 'address', 'famsize', 'Pstatus',\n",
       "       'Medu', 'Fedu', 'Mjob', 'Fjob', 'reason', 'guardian', 'traveltime',\n",
       "       'studytime', 'failures', 'schoolsup', 'famsup', 'paid', 'activities',\n",
       "       'nursery', 'higher', 'internet', 'romantic', 'famrel', 'freetime',\n",
       "       'goout', 'Dalc', 'Walc', 'health', 'absences', 'G1', 'G2', 'G3',\n",
       "       'alcohol'],\n",
       "      dtype='object')"
      ]
     },
     "execution_count": 67,
     "metadata": {},
     "output_type": "execute_result"
    }
   ],
   "source": [
    "display(students_cleaned['freetime'].isnull().value_counts())\n",
    "students_cleaned.columns"
   ]
  },
  {
   "cell_type": "code",
   "execution_count": 68,
   "metadata": {},
   "outputs": [
    {
     "data": {
      "text/plain": [
       "freetime    1.000000\n",
       "goout       0.262200\n",
       "Dalc        0.205573\n",
       "alcohol     0.172921\n",
       "famrel      0.155374\n",
       "Name: freetime, dtype: float64"
      ]
     },
     "metadata": {},
     "output_type": "display_data"
    },
    {
     "data": {
      "text/plain": [
       "<Axes: xlabel='freetime', ylabel='goout'>"
      ]
     },
     "execution_count": 68,
     "metadata": {},
     "output_type": "execute_result"
    },
    {
     "data": {
      "image/png": "[encoded data removed]",
      "text/plain": [
       "<Figure size 640x480 with 1 Axes>"
      ]
     },
     "metadata": {},
     "output_type": "display_data"
    }
   ],
   "source": [
    "numeric_cols = students_cleaned.select_dtypes(include ='number').columns\n",
    "numeric_cols\n",
    "display(students_cleaned[numeric_cols].corr()['freetime'].sort_values(ascending = False).head(5))\n",
    "\n",
    "# sns.lmplot(data = students_cleaned, x = 'freetime', y = 'goout')\n",
    "sns.barplot(data = students_cleaned, x = 'freetime', y = 'goout')"
   ]
  },
  {
   "cell_type": "markdown",
   "metadata": {},
   "source": [
    "### Filling NaN in freetime"
   ]
  },
  {
   "cell_type": "code",
   "execution_count": 72,
   "metadata": {},
   "outputs": [
    {
     "name": "stderr",
     "output_type": "stream",
     "text": [
      "C:\\Users\\Sebastian!\\AppData\\Local\\Temp\\ipykernel_15020\\2397698310.py:3: FutureWarning: A value is trying to be set on a copy of a DataFrame or Series through chained assignment using an inplace method.\n",
      "The behavior will change in pandas 3.0. This inplace method will never work because the intermediate object on which we are setting values always behaves as a copy.\n",
      "\n",
      "For example, when doing 'df[col].method(value, inplace=True)', try using 'df.method({col: value}, inplace=True)' or df[col] = df[col].method(value) instead, to perform the operation inplace on the original object.\n",
      "\n",
      "\n",
      "  students_cleaned_final['freetime'].fillna(students_cleaned_final.groupby('goout')['freetime'].transform('median'), inplace = True)\n"
     ]
    },
    {
     "data": {
      "image/png": "[encoded data removed]",
      "text/plain": [
       "<Figure size 800x600 with 1 Axes>"
      ]
     },
     "metadata": {},
     "output_type": "display_data"
    }
   ],
   "source": [
    "students_cleaned_final = students_cleaned.copy()\n",
    "students_cleaned_final.groupby('goout')['freetime'].mean()\n",
    "students_cleaned_final['freetime'].fillna(students_cleaned_final.groupby('goout')['freetime'].transform('median'), inplace = True)\n",
    "plot_missing_values(students_cleaned_final)"
   ]
  },
  {
   "cell_type": "markdown",
   "metadata": {},
   "source": [
    "Nu är alla NaN-värden fyllda med rimliga siffror!"
   ]
  },
  {
   "cell_type": "markdown",
   "metadata": {},
   "source": [
    "---\n",
    "\n",
    "Kokchun Giang\n",
    "\n",
    "[LinkedIn][linkedIn_kokchun]\n",
    "\n",
    "[GitHub portfolio][github_portfolio]\n",
    "\n",
    "[linkedIn_kokchun]: https://www.linkedin.com/in/kokchungiang/\n",
    "[github_portfolio]: https://github.com/kokchun/Portfolio-Kokchun-Giang\n",
    "\n",
    "---"
   ]
  }
 ],
 "metadata": {
  "kernelspec": {
   "display_name": "venv",
   "language": "python",
   "name": "python3"
  },
  "language_info": {
   "codemirror_mode": {
    "name": "ipython",
    "version": 3
   },
   "file_extension": ".py",
   "mimetype": "text/x-python",
   "name": "python",
   "nbconvert_exporter": "python",
   "pygments_lexer": "ipython3",
   "version": "3.13.3"
  },
  "orig_nbformat": 4
 },
 "nbformat": 4,
 "nbformat_minor": 2
}
